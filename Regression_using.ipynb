{
  "nbformat": 4,
  "nbformat_minor": 0,
  "metadata": {
    "colab": {
      "name": "Regression_using.ipynb",
      "provenance": [],
      "collapsed_sections": [],
      "authorship_tag": "ABX9TyPY1sxY2SL6yipqzHecgjQ5",
      "include_colab_link": true
    },
    "kernelspec": {
      "name": "python3",
      "display_name": "Python 3"
    },
    "language_info": {
      "name": "python"
    }
  },
  "cells": [
    {
      "cell_type": "markdown",
      "metadata": {
        "id": "view-in-github",
        "colab_type": "text"
      },
      "source": [
        "<a href=\"https://colab.research.google.com/github/sabaakram539/Regression_using_keras/blob/main/Regression_using.ipynb\" target=\"_parent\"><img src=\"https://colab.research.google.com/assets/colab-badge.svg\" alt=\"Open In Colab\"/></a>"
      ]
    },
    {
      "cell_type": "code",
      "metadata": {
        "id": "KOS9lYv1H8bj"
      },
      "source": [
        "import pandas as pd\n",
        "import numpy as np\n",
        "import matplotlib.pyplot as plt\n",
        "import seaborn as sns"
      ],
      "execution_count": 7,
      "outputs": []
    },
    {
      "cell_type": "code",
      "metadata": {
        "colab": {
          "base_uri": "https://localhost:8080/",
          "height": 112
        },
        "id": "jePD3BjQTXQ_",
        "outputId": "c9094b20-d6ac-43c0-c03c-784f2d53c1cc"
      },
      "source": [
        "data=pd.read_csv(\"Admission_Predict.csv\")\n",
        "data.head(2)"
      ],
      "execution_count": 13,
      "outputs": [
        {
          "output_type": "execute_result",
          "data": {
            "text/html": [
              "<div>\n",
              "<style scoped>\n",
              "    .dataframe tbody tr th:only-of-type {\n",
              "        vertical-align: middle;\n",
              "    }\n",
              "\n",
              "    .dataframe tbody tr th {\n",
              "        vertical-align: top;\n",
              "    }\n",
              "\n",
              "    .dataframe thead th {\n",
              "        text-align: right;\n",
              "    }\n",
              "</style>\n",
              "<table border=\"1\" class=\"dataframe\">\n",
              "  <thead>\n",
              "    <tr style=\"text-align: right;\">\n",
              "      <th></th>\n",
              "      <th>Serial No.</th>\n",
              "      <th>GRE Score</th>\n",
              "      <th>TOEFL Score</th>\n",
              "      <th>University Rating</th>\n",
              "      <th>SOP</th>\n",
              "      <th>LOR</th>\n",
              "      <th>CGPA</th>\n",
              "      <th>Research</th>\n",
              "      <th>Chance of Admit</th>\n",
              "    </tr>\n",
              "  </thead>\n",
              "  <tbody>\n",
              "    <tr>\n",
              "      <th>0</th>\n",
              "      <td>1</td>\n",
              "      <td>337</td>\n",
              "      <td>118</td>\n",
              "      <td>4</td>\n",
              "      <td>4.5</td>\n",
              "      <td>4.5</td>\n",
              "      <td>9.65</td>\n",
              "      <td>1</td>\n",
              "      <td>0.92</td>\n",
              "    </tr>\n",
              "    <tr>\n",
              "      <th>1</th>\n",
              "      <td>2</td>\n",
              "      <td>324</td>\n",
              "      <td>107</td>\n",
              "      <td>4</td>\n",
              "      <td>4.0</td>\n",
              "      <td>4.5</td>\n",
              "      <td>8.87</td>\n",
              "      <td>1</td>\n",
              "      <td>0.76</td>\n",
              "    </tr>\n",
              "  </tbody>\n",
              "</table>\n",
              "</div>"
            ],
            "text/plain": [
              "   Serial No.  GRE Score  TOEFL Score  ...  CGPA  Research  Chance of Admit \n",
              "0           1        337          118  ...  9.65         1              0.92\n",
              "1           2        324          107  ...  8.87         1              0.76\n",
              "\n",
              "[2 rows x 9 columns]"
            ]
          },
          "metadata": {},
          "execution_count": 13
        }
      ]
    },
    {
      "cell_type": "code",
      "metadata": {
        "colab": {
          "base_uri": "https://localhost:8080/"
        },
        "id": "EKX71NYyT6kU",
        "outputId": "7913a1a4-01e4-4928-e2aa-b3b9d71f2ae3"
      },
      "source": [
        "data.shape"
      ],
      "execution_count": 14,
      "outputs": [
        {
          "output_type": "execute_result",
          "data": {
            "text/plain": [
              "(400, 9)"
            ]
          },
          "metadata": {},
          "execution_count": 14
        }
      ]
    },
    {
      "cell_type": "code",
      "metadata": {
        "colab": {
          "base_uri": "https://localhost:8080/"
        },
        "id": "WczK57o7T-bf",
        "outputId": "d836718b-7936-4fd0-8787-d6ba70bd37a8"
      },
      "source": [
        "data.isnull().sum()"
      ],
      "execution_count": 15,
      "outputs": [
        {
          "output_type": "execute_result",
          "data": {
            "text/plain": [
              "Serial No.           0\n",
              "GRE Score            0\n",
              "TOEFL Score          0\n",
              "University Rating    0\n",
              "SOP                  0\n",
              "LOR                  0\n",
              "CGPA                 0\n",
              "Research             0\n",
              "Chance of Admit      0\n",
              "dtype: int64"
            ]
          },
          "metadata": {},
          "execution_count": 15
        }
      ]
    },
    {
      "cell_type": "code",
      "metadata": {
        "colab": {
          "base_uri": "https://localhost:8080/"
        },
        "id": "BgzOlRG0UBv4",
        "outputId": "39cc0404-e429-43e9-f92c-9f68db1af688"
      },
      "source": [
        "data.duplicated().sum()"
      ],
      "execution_count": 16,
      "outputs": [
        {
          "output_type": "execute_result",
          "data": {
            "text/plain": [
              "0"
            ]
          },
          "metadata": {},
          "execution_count": 16
        }
      ]
    },
    {
      "cell_type": "code",
      "metadata": {
        "id": "oNRih_2TTo2B"
      },
      "source": [
        "data.drop(\"Serial No.\",1,inplace=True)"
      ],
      "execution_count": 17,
      "outputs": []
    },
    {
      "cell_type": "code",
      "metadata": {
        "colab": {
          "base_uri": "https://localhost:8080/",
          "height": 112
        },
        "id": "SgQ1MRbQTywa",
        "outputId": "db9ea19e-698c-49bb-e81e-7cdcfe720ee6"
      },
      "source": [
        "data.head(2)"
      ],
      "execution_count": 18,
      "outputs": [
        {
          "output_type": "execute_result",
          "data": {
            "text/html": [
              "<div>\n",
              "<style scoped>\n",
              "    .dataframe tbody tr th:only-of-type {\n",
              "        vertical-align: middle;\n",
              "    }\n",
              "\n",
              "    .dataframe tbody tr th {\n",
              "        vertical-align: top;\n",
              "    }\n",
              "\n",
              "    .dataframe thead th {\n",
              "        text-align: right;\n",
              "    }\n",
              "</style>\n",
              "<table border=\"1\" class=\"dataframe\">\n",
              "  <thead>\n",
              "    <tr style=\"text-align: right;\">\n",
              "      <th></th>\n",
              "      <th>GRE Score</th>\n",
              "      <th>TOEFL Score</th>\n",
              "      <th>University Rating</th>\n",
              "      <th>SOP</th>\n",
              "      <th>LOR</th>\n",
              "      <th>CGPA</th>\n",
              "      <th>Research</th>\n",
              "      <th>Chance of Admit</th>\n",
              "    </tr>\n",
              "  </thead>\n",
              "  <tbody>\n",
              "    <tr>\n",
              "      <th>0</th>\n",
              "      <td>337</td>\n",
              "      <td>118</td>\n",
              "      <td>4</td>\n",
              "      <td>4.5</td>\n",
              "      <td>4.5</td>\n",
              "      <td>9.65</td>\n",
              "      <td>1</td>\n",
              "      <td>0.92</td>\n",
              "    </tr>\n",
              "    <tr>\n",
              "      <th>1</th>\n",
              "      <td>324</td>\n",
              "      <td>107</td>\n",
              "      <td>4</td>\n",
              "      <td>4.0</td>\n",
              "      <td>4.5</td>\n",
              "      <td>8.87</td>\n",
              "      <td>1</td>\n",
              "      <td>0.76</td>\n",
              "    </tr>\n",
              "  </tbody>\n",
              "</table>\n",
              "</div>"
            ],
            "text/plain": [
              "   GRE Score  TOEFL Score  University Rating  ...  CGPA  Research  Chance of Admit \n",
              "0        337          118                  4  ...  9.65         1              0.92\n",
              "1        324          107                  4  ...  8.87         1              0.76\n",
              "\n",
              "[2 rows x 8 columns]"
            ]
          },
          "metadata": {},
          "execution_count": 18
        }
      ]
    },
    {
      "cell_type": "code",
      "metadata": {
        "id": "CmMg3j_QUVgB"
      },
      "source": [
        "x=data.iloc[:,0:-1].values\n",
        "y=data.iloc[:,-1].values"
      ],
      "execution_count": 26,
      "outputs": []
    },
    {
      "cell_type": "code",
      "metadata": {
        "colab": {
          "base_uri": "https://localhost:8080/"
        },
        "id": "nIV2a0C-UoXj",
        "outputId": "93254e42-e872-4e06-848c-2d2adbf0db10"
      },
      "source": [
        "x"
      ],
      "execution_count": 27,
      "outputs": [
        {
          "output_type": "execute_result",
          "data": {
            "text/plain": [
              "array([[337.  , 118.  ,   4.  , ...,   4.5 ,   9.65,   1.  ],\n",
              "       [324.  , 107.  ,   4.  , ...,   4.5 ,   8.87,   1.  ],\n",
              "       [316.  , 104.  ,   3.  , ...,   3.5 ,   8.  ,   1.  ],\n",
              "       ...,\n",
              "       [330.  , 116.  ,   4.  , ...,   4.5 ,   9.45,   1.  ],\n",
              "       [312.  , 103.  ,   3.  , ...,   4.  ,   8.78,   0.  ],\n",
              "       [333.  , 117.  ,   4.  , ...,   4.  ,   9.66,   1.  ]])"
            ]
          },
          "metadata": {},
          "execution_count": 27
        }
      ]
    },
    {
      "cell_type": "code",
      "metadata": {
        "colab": {
          "base_uri": "https://localhost:8080/"
        },
        "id": "9caFK_v-WN3u",
        "outputId": "46dfe463-8e7e-44b1-b9b7-3ab69bfdd9e9"
      },
      "source": [
        "y"
      ],
      "execution_count": 28,
      "outputs": [
        {
          "output_type": "execute_result",
          "data": {
            "text/plain": [
              "array([0.92, 0.76, 0.72, 0.8 , 0.65, 0.9 , 0.75, 0.68, 0.5 , 0.45, 0.52,\n",
              "       0.84, 0.78, 0.62, 0.61, 0.54, 0.66, 0.65, 0.63, 0.62, 0.64, 0.7 ,\n",
              "       0.94, 0.95, 0.97, 0.94, 0.76, 0.44, 0.46, 0.54, 0.65, 0.74, 0.91,\n",
              "       0.9 , 0.94, 0.88, 0.64, 0.58, 0.52, 0.48, 0.46, 0.49, 0.53, 0.87,\n",
              "       0.91, 0.88, 0.86, 0.89, 0.82, 0.78, 0.76, 0.56, 0.78, 0.72, 0.7 ,\n",
              "       0.64, 0.64, 0.46, 0.36, 0.42, 0.48, 0.47, 0.54, 0.56, 0.52, 0.55,\n",
              "       0.61, 0.57, 0.68, 0.78, 0.94, 0.96, 0.93, 0.84, 0.74, 0.72, 0.74,\n",
              "       0.64, 0.44, 0.46, 0.5 , 0.96, 0.92, 0.92, 0.94, 0.76, 0.72, 0.66,\n",
              "       0.64, 0.74, 0.64, 0.38, 0.34, 0.44, 0.36, 0.42, 0.48, 0.86, 0.9 ,\n",
              "       0.79, 0.71, 0.64, 0.62, 0.57, 0.74, 0.69, 0.87, 0.91, 0.93, 0.68,\n",
              "       0.61, 0.69, 0.62, 0.72, 0.59, 0.66, 0.56, 0.45, 0.47, 0.71, 0.94,\n",
              "       0.94, 0.57, 0.61, 0.57, 0.64, 0.85, 0.78, 0.84, 0.92, 0.96, 0.77,\n",
              "       0.71, 0.79, 0.89, 0.82, 0.76, 0.71, 0.8 , 0.78, 0.84, 0.9 , 0.92,\n",
              "       0.97, 0.8 , 0.81, 0.75, 0.83, 0.96, 0.79, 0.93, 0.94, 0.86, 0.79,\n",
              "       0.8 , 0.77, 0.7 , 0.65, 0.61, 0.52, 0.57, 0.53, 0.67, 0.68, 0.81,\n",
              "       0.78, 0.65, 0.64, 0.64, 0.65, 0.68, 0.89, 0.86, 0.89, 0.87, 0.85,\n",
              "       0.9 , 0.82, 0.72, 0.73, 0.71, 0.71, 0.68, 0.75, 0.72, 0.89, 0.84,\n",
              "       0.93, 0.93, 0.88, 0.9 , 0.87, 0.86, 0.94, 0.77, 0.78, 0.73, 0.73,\n",
              "       0.7 , 0.72, 0.73, 0.72, 0.97, 0.97, 0.69, 0.57, 0.63, 0.66, 0.64,\n",
              "       0.68, 0.79, 0.82, 0.95, 0.96, 0.94, 0.93, 0.91, 0.85, 0.84, 0.74,\n",
              "       0.76, 0.75, 0.76, 0.71, 0.67, 0.61, 0.63, 0.64, 0.71, 0.82, 0.73,\n",
              "       0.74, 0.69, 0.64, 0.91, 0.88, 0.85, 0.86, 0.7 , 0.59, 0.6 , 0.65,\n",
              "       0.7 , 0.76, 0.63, 0.81, 0.72, 0.71, 0.8 , 0.77, 0.74, 0.7 , 0.71,\n",
              "       0.93, 0.85, 0.79, 0.76, 0.78, 0.77, 0.9 , 0.87, 0.71, 0.7 , 0.7 ,\n",
              "       0.75, 0.71, 0.72, 0.73, 0.83, 0.77, 0.72, 0.54, 0.49, 0.52, 0.58,\n",
              "       0.78, 0.89, 0.7 , 0.66, 0.67, 0.68, 0.8 , 0.81, 0.8 , 0.94, 0.93,\n",
              "       0.92, 0.89, 0.82, 0.79, 0.58, 0.56, 0.56, 0.64, 0.61, 0.68, 0.76,\n",
              "       0.86, 0.9 , 0.71, 0.62, 0.66, 0.65, 0.73, 0.62, 0.74, 0.79, 0.8 ,\n",
              "       0.69, 0.7 , 0.76, 0.84, 0.78, 0.67, 0.66, 0.65, 0.54, 0.58, 0.79,\n",
              "       0.8 , 0.75, 0.73, 0.72, 0.62, 0.67, 0.81, 0.63, 0.69, 0.8 , 0.43,\n",
              "       0.8 , 0.73, 0.75, 0.71, 0.73, 0.83, 0.72, 0.94, 0.81, 0.81, 0.75,\n",
              "       0.79, 0.58, 0.59, 0.47, 0.49, 0.47, 0.42, 0.57, 0.62, 0.74, 0.73,\n",
              "       0.64, 0.63, 0.59, 0.73, 0.79, 0.68, 0.7 , 0.81, 0.85, 0.93, 0.91,\n",
              "       0.69, 0.77, 0.86, 0.74, 0.57, 0.51, 0.67, 0.72, 0.89, 0.95, 0.79,\n",
              "       0.39, 0.38, 0.34, 0.47, 0.56, 0.71, 0.78, 0.73, 0.82, 0.62, 0.96,\n",
              "       0.96, 0.46, 0.53, 0.49, 0.76, 0.64, 0.71, 0.84, 0.77, 0.89, 0.82,\n",
              "       0.84, 0.91, 0.67, 0.95])"
            ]
          },
          "metadata": {},
          "execution_count": 28
        }
      ]
    },
    {
      "cell_type": "code",
      "metadata": {
        "id": "-qZ_VRQWWQm6"
      },
      "source": [
        "from sklearn.preprocessing import StandardScaler\n",
        "scalar=StandardScaler()"
      ],
      "execution_count": 29,
      "outputs": []
    },
    {
      "cell_type": "code",
      "metadata": {
        "id": "PSMYmuTJWdWf"
      },
      "source": [
        "x=scalar.fit_transform(x)"
      ],
      "execution_count": 30,
      "outputs": []
    },
    {
      "cell_type": "code",
      "metadata": {
        "colab": {
          "base_uri": "https://localhost:8080/"
        },
        "id": "muh_QnvsWiUP",
        "outputId": "028f51d3-fd64-4f4e-9fbc-562d9ea056dd"
      },
      "source": [
        "x[0]"
      ],
      "execution_count": 32,
      "outputs": [
        {
          "output_type": "execute_result",
          "data": {
            "text/plain": [
              "array([1.76210664, 1.74697064, 0.79882862, 1.09386422, 1.16732114,\n",
              "       1.76481828, 0.90911166])"
            ]
          },
          "metadata": {},
          "execution_count": 32
        }
      ]
    },
    {
      "cell_type": "code",
      "metadata": {
        "id": "u5TGdRu1WjYQ"
      },
      "source": [
        "from sklearn.model_selection import train_test_split\n",
        "x_train,x_test,y_train,y_test=train_test_split(x,y,test_size=0.1,random_state=0)"
      ],
      "execution_count": 33,
      "outputs": []
    },
    {
      "cell_type": "code",
      "metadata": {
        "colab": {
          "base_uri": "https://localhost:8080/"
        },
        "id": "vKSb9vlsW9Jh",
        "outputId": "a90ad763-b7a3-4921-f4dc-e1c988079753"
      },
      "source": [
        "x_train.shape"
      ],
      "execution_count": 34,
      "outputs": [
        {
          "output_type": "execute_result",
          "data": {
            "text/plain": [
              "(360, 7)"
            ]
          },
          "metadata": {},
          "execution_count": 34
        }
      ]
    },
    {
      "cell_type": "code",
      "metadata": {
        "colab": {
          "base_uri": "https://localhost:8080/"
        },
        "id": "Ksugg9iOW_q-",
        "outputId": "ffd667f9-0b5c-4d1c-b040-86bbf6ebecd0"
      },
      "source": [
        "x_test.shape"
      ],
      "execution_count": 35,
      "outputs": [
        {
          "output_type": "execute_result",
          "data": {
            "text/plain": [
              "(40, 7)"
            ]
          },
          "metadata": {},
          "execution_count": 35
        }
      ]
    },
    {
      "cell_type": "code",
      "metadata": {
        "colab": {
          "base_uri": "https://localhost:8080/"
        },
        "id": "Gk1pL8A6XCD0",
        "outputId": "360e0d26-90da-485f-d363-1fa87312ef72"
      },
      "source": [
        "y_train.shape"
      ],
      "execution_count": 36,
      "outputs": [
        {
          "output_type": "execute_result",
          "data": {
            "text/plain": [
              "(360,)"
            ]
          },
          "metadata": {},
          "execution_count": 36
        }
      ]
    },
    {
      "cell_type": "code",
      "metadata": {
        "colab": {
          "base_uri": "https://localhost:8080/"
        },
        "id": "rsjWQkqFXD56",
        "outputId": "9258add6-8290-4272-c3e9-db871058ca2f"
      },
      "source": [
        "y_test.shape"
      ],
      "execution_count": 37,
      "outputs": [
        {
          "output_type": "execute_result",
          "data": {
            "text/plain": [
              "(40,)"
            ]
          },
          "metadata": {},
          "execution_count": 37
        }
      ]
    },
    {
      "cell_type": "code",
      "metadata": {
        "id": "f7KTSu8OXFgc"
      },
      "source": [
        "import tensorflow\n",
        "from tensorflow import keras\n",
        "from tensorflow.keras import Sequential\n",
        "from tensorflow.keras.layers import Dense"
      ],
      "execution_count": 38,
      "outputs": []
    },
    {
      "cell_type": "code",
      "metadata": {
        "id": "_SvwOsuOXacg"
      },
      "source": [
        "model=Sequential()"
      ],
      "execution_count": 43,
      "outputs": []
    },
    {
      "cell_type": "code",
      "metadata": {
        "id": "4ABZVygMXd61"
      },
      "source": [
        "model.add(Dense(3,activation='relu',input_dim=x_train.shape[1]))\n",
        "model.add(Dense(1,activation='linear'))"
      ],
      "execution_count": 44,
      "outputs": []
    },
    {
      "cell_type": "code",
      "metadata": {
        "colab": {
          "base_uri": "https://localhost:8080/"
        },
        "id": "T3yDUYnnX5Nh",
        "outputId": "1e4b4e6f-855c-4dae-ec84-b1d6f60a99f4"
      },
      "source": [
        "model.summary()"
      ],
      "execution_count": 45,
      "outputs": [
        {
          "output_type": "stream",
          "name": "stdout",
          "text": [
            "Model: \"sequential_1\"\n",
            "_________________________________________________________________\n",
            " Layer (type)                Output Shape              Param #   \n",
            "=================================================================\n",
            " dense_3 (Dense)             (None, 3)                 24        \n",
            "                                                                 \n",
            " dense_4 (Dense)             (None, 1)                 4         \n",
            "                                                                 \n",
            "=================================================================\n",
            "Total params: 28\n",
            "Trainable params: 28\n",
            "Non-trainable params: 0\n",
            "_________________________________________________________________\n"
          ]
        }
      ]
    },
    {
      "cell_type": "code",
      "metadata": {
        "id": "lckTxQOaYA6M"
      },
      "source": [
        "model.compile(optimizer='Adam',loss='mean_squared_error')"
      ],
      "execution_count": 47,
      "outputs": []
    },
    {
      "cell_type": "code",
      "metadata": {
        "colab": {
          "base_uri": "https://localhost:8080/"
        },
        "id": "I4IsdskKYbmT",
        "outputId": "87d2b2ab-91af-48c6-f7df-1384337ce906"
      },
      "source": [
        "model.fit(x_train,y_train,epochs=10,batch_size=10,verbose=1)"
      ],
      "execution_count": 48,
      "outputs": [
        {
          "output_type": "stream",
          "name": "stdout",
          "text": [
            "Epoch 1/10\n",
            "36/36 [==============================] - 1s 2ms/step - loss: 0.7109\n",
            "Epoch 2/10\n",
            "36/36 [==============================] - 0s 2ms/step - loss: 0.5409\n",
            "Epoch 3/10\n",
            "36/36 [==============================] - 0s 1ms/step - loss: 0.4135\n",
            "Epoch 4/10\n",
            "36/36 [==============================] - 0s 1ms/step - loss: 0.3195\n",
            "Epoch 5/10\n",
            "36/36 [==============================] - 0s 2ms/step - loss: 0.2562\n",
            "Epoch 6/10\n",
            "36/36 [==============================] - 0s 2ms/step - loss: 0.2148\n",
            "Epoch 7/10\n",
            "36/36 [==============================] - 0s 1ms/step - loss: 0.1862\n",
            "Epoch 8/10\n",
            "36/36 [==============================] - 0s 2ms/step - loss: 0.1638\n",
            "Epoch 9/10\n",
            "36/36 [==============================] - 0s 1ms/step - loss: 0.1456\n",
            "Epoch 10/10\n",
            "36/36 [==============================] - 0s 1ms/step - loss: 0.1296\n"
          ]
        },
        {
          "output_type": "execute_result",
          "data": {
            "text/plain": [
              "<keras.callbacks.History at 0x7f7d5c96cf90>"
            ]
          },
          "metadata": {},
          "execution_count": 48
        }
      ]
    },
    {
      "cell_type": "code",
      "metadata": {
        "id": "FISBbjeXYmlx"
      },
      "source": [
        "y_pred=model.predict(x_test)"
      ],
      "execution_count": 49,
      "outputs": []
    },
    {
      "cell_type": "code",
      "metadata": {
        "id": "bUdlfw2pYrw-"
      },
      "source": [
        "from sklearn.metrics import r2_score"
      ],
      "execution_count": 50,
      "outputs": []
    },
    {
      "cell_type": "code",
      "metadata": {
        "colab": {
          "base_uri": "https://localhost:8080/"
        },
        "id": "JsY8UJN3Yw7P",
        "outputId": "267c5ef2-86e6-4c66-fefd-1b0c7a12263d"
      },
      "source": [
        "r2_score(y_test,y_pred)"
      ],
      "execution_count": 51,
      "outputs": [
        {
          "output_type": "execute_result",
          "data": {
            "text/plain": [
              "-5.3790290060167685"
            ]
          },
          "metadata": {},
          "execution_count": 51
        }
      ]
    },
    {
      "cell_type": "markdown",
      "metadata": {
        "id": "40TS5h8sZ0eh"
      },
      "source": [
        "**Our model is performing very poor. Lets try to improve this by various means**\n",
        "**We can improve our model performance by various means. In this project we will try three methods**\n",
        "1. **Increasing the number of epochs**\n",
        "2. **Increase the number of nodes in the hidden layer**\n",
        "3. **Adding more layers**"
      ]
    },
    {
      "cell_type": "markdown",
      "metadata": {
        "id": "8Zd1V36gagxO"
      },
      "source": [
        "**1. Increasing the number of epochs from 10 to 100**"
      ]
    },
    {
      "cell_type": "code",
      "metadata": {
        "id": "zUdFIPgdY0G3"
      },
      "source": [
        "model=Sequential()"
      ],
      "execution_count": 52,
      "outputs": []
    },
    {
      "cell_type": "code",
      "metadata": {
        "id": "ZpAu-a6baw5h"
      },
      "source": [
        "model.add(Dense(3,activation='relu',input_dim=x_train.shape[1]))\n",
        "model.add(Dense(1,activation='linear'))"
      ],
      "execution_count": 53,
      "outputs": []
    },
    {
      "cell_type": "code",
      "metadata": {
        "colab": {
          "base_uri": "https://localhost:8080/"
        },
        "id": "Cqtgadf4az0V",
        "outputId": "193b2098-c4dc-4844-dfc6-f14f73460e9e"
      },
      "source": [
        "model.summary()"
      ],
      "execution_count": 54,
      "outputs": [
        {
          "output_type": "stream",
          "name": "stdout",
          "text": [
            "Model: \"sequential_2\"\n",
            "_________________________________________________________________\n",
            " Layer (type)                Output Shape              Param #   \n",
            "=================================================================\n",
            " dense_5 (Dense)             (None, 3)                 24        \n",
            "                                                                 \n",
            " dense_6 (Dense)             (None, 1)                 4         \n",
            "                                                                 \n",
            "=================================================================\n",
            "Total params: 28\n",
            "Trainable params: 28\n",
            "Non-trainable params: 0\n",
            "_________________________________________________________________\n"
          ]
        }
      ]
    },
    {
      "cell_type": "code",
      "metadata": {
        "id": "FXuN29jwa2pR"
      },
      "source": [
        "model.compile(optimizer='Adam',loss='mean_squared_error')"
      ],
      "execution_count": 55,
      "outputs": []
    },
    {
      "cell_type": "code",
      "metadata": {
        "colab": {
          "base_uri": "https://localhost:8080/"
        },
        "id": "DD_Dl78ua7Lu",
        "outputId": "a72707e1-f5f5-4ba5-9b74-b5e90ac0f292"
      },
      "source": [
        "model.fit(x_train,y_train,epochs=100,batch_size=10,verbose=1)"
      ],
      "execution_count": 56,
      "outputs": [
        {
          "output_type": "stream",
          "name": "stdout",
          "text": [
            "Epoch 1/100\n",
            "36/36 [==============================] - 0s 1ms/step - loss: 0.4636\n",
            "Epoch 2/100\n",
            "36/36 [==============================] - 0s 1ms/step - loss: 0.3730\n",
            "Epoch 3/100\n",
            "36/36 [==============================] - 0s 2ms/step - loss: 0.3189\n",
            "Epoch 4/100\n",
            "36/36 [==============================] - 0s 1ms/step - loss: 0.2784\n",
            "Epoch 5/100\n",
            "36/36 [==============================] - 0s 2ms/step - loss: 0.2455\n",
            "Epoch 6/100\n",
            "36/36 [==============================] - 0s 2ms/step - loss: 0.2176\n",
            "Epoch 7/100\n",
            "36/36 [==============================] - 0s 1ms/step - loss: 0.1935\n",
            "Epoch 8/100\n",
            "36/36 [==============================] - 0s 2ms/step - loss: 0.1720\n",
            "Epoch 9/100\n",
            "36/36 [==============================] - 0s 2ms/step - loss: 0.1534\n",
            "Epoch 10/100\n",
            "36/36 [==============================] - 0s 2ms/step - loss: 0.1367\n",
            "Epoch 11/100\n",
            "36/36 [==============================] - 0s 2ms/step - loss: 0.1223\n",
            "Epoch 12/100\n",
            "36/36 [==============================] - 0s 2ms/step - loss: 0.1092\n",
            "Epoch 13/100\n",
            "36/36 [==============================] - 0s 2ms/step - loss: 0.0981\n",
            "Epoch 14/100\n",
            "36/36 [==============================] - 0s 1ms/step - loss: 0.0881\n",
            "Epoch 15/100\n",
            "36/36 [==============================] - 0s 1ms/step - loss: 0.0792\n",
            "Epoch 16/100\n",
            "36/36 [==============================] - 0s 2ms/step - loss: 0.0714\n",
            "Epoch 17/100\n",
            "36/36 [==============================] - 0s 2ms/step - loss: 0.0644\n",
            "Epoch 18/100\n",
            "36/36 [==============================] - 0s 2ms/step - loss: 0.0583\n",
            "Epoch 19/100\n",
            "36/36 [==============================] - 0s 2ms/step - loss: 0.0527\n",
            "Epoch 20/100\n",
            "36/36 [==============================] - 0s 1ms/step - loss: 0.0481\n",
            "Epoch 21/100\n",
            "36/36 [==============================] - 0s 2ms/step - loss: 0.0438\n",
            "Epoch 22/100\n",
            "36/36 [==============================] - 0s 2ms/step - loss: 0.0400\n",
            "Epoch 23/100\n",
            "36/36 [==============================] - 0s 1ms/step - loss: 0.0368\n",
            "Epoch 24/100\n",
            "36/36 [==============================] - 0s 2ms/step - loss: 0.0341\n",
            "Epoch 25/100\n",
            "36/36 [==============================] - 0s 1ms/step - loss: 0.0313\n",
            "Epoch 26/100\n",
            "36/36 [==============================] - 0s 2ms/step - loss: 0.0291\n",
            "Epoch 27/100\n",
            "36/36 [==============================] - 0s 2ms/step - loss: 0.0272\n",
            "Epoch 28/100\n",
            "36/36 [==============================] - 0s 1ms/step - loss: 0.0253\n",
            "Epoch 29/100\n",
            "36/36 [==============================] - 0s 2ms/step - loss: 0.0237\n",
            "Epoch 30/100\n",
            "36/36 [==============================] - 0s 2ms/step - loss: 0.0224\n",
            "Epoch 31/100\n",
            "36/36 [==============================] - 0s 2ms/step - loss: 0.0211\n",
            "Epoch 32/100\n",
            "36/36 [==============================] - 0s 2ms/step - loss: 0.0199\n",
            "Epoch 33/100\n",
            "36/36 [==============================] - 0s 2ms/step - loss: 0.0189\n",
            "Epoch 34/100\n",
            "36/36 [==============================] - 0s 1ms/step - loss: 0.0180\n",
            "Epoch 35/100\n",
            "36/36 [==============================] - 0s 2ms/step - loss: 0.0172\n",
            "Epoch 36/100\n",
            "36/36 [==============================] - 0s 2ms/step - loss: 0.0165\n",
            "Epoch 37/100\n",
            "36/36 [==============================] - 0s 1ms/step - loss: 0.0159\n",
            "Epoch 38/100\n",
            "36/36 [==============================] - 0s 1ms/step - loss: 0.0153\n",
            "Epoch 39/100\n",
            "36/36 [==============================] - 0s 1ms/step - loss: 0.0147\n",
            "Epoch 40/100\n",
            "36/36 [==============================] - 0s 1ms/step - loss: 0.0143\n",
            "Epoch 41/100\n",
            "36/36 [==============================] - 0s 1ms/step - loss: 0.0138\n",
            "Epoch 42/100\n",
            "36/36 [==============================] - 0s 2ms/step - loss: 0.0134\n",
            "Epoch 43/100\n",
            "36/36 [==============================] - 0s 1ms/step - loss: 0.0131\n",
            "Epoch 44/100\n",
            "36/36 [==============================] - 0s 2ms/step - loss: 0.0127\n",
            "Epoch 45/100\n",
            "36/36 [==============================] - 0s 2ms/step - loss: 0.0124\n",
            "Epoch 46/100\n",
            "36/36 [==============================] - 0s 2ms/step - loss: 0.0121\n",
            "Epoch 47/100\n",
            "36/36 [==============================] - 0s 1ms/step - loss: 0.0118\n",
            "Epoch 48/100\n",
            "36/36 [==============================] - 0s 2ms/step - loss: 0.0116\n",
            "Epoch 49/100\n",
            "36/36 [==============================] - 0s 2ms/step - loss: 0.0114\n",
            "Epoch 50/100\n",
            "36/36 [==============================] - 0s 2ms/step - loss: 0.0111\n",
            "Epoch 51/100\n",
            "36/36 [==============================] - 0s 2ms/step - loss: 0.0109\n",
            "Epoch 52/100\n",
            "36/36 [==============================] - 0s 1ms/step - loss: 0.0107\n",
            "Epoch 53/100\n",
            "36/36 [==============================] - 0s 2ms/step - loss: 0.0106\n",
            "Epoch 54/100\n",
            "36/36 [==============================] - 0s 1ms/step - loss: 0.0104\n",
            "Epoch 55/100\n",
            "36/36 [==============================] - 0s 2ms/step - loss: 0.0103\n",
            "Epoch 56/100\n",
            "36/36 [==============================] - 0s 2ms/step - loss: 0.0101\n",
            "Epoch 57/100\n",
            "36/36 [==============================] - 0s 3ms/step - loss: 0.0100\n",
            "Epoch 58/100\n",
            "36/36 [==============================] - 0s 1ms/step - loss: 0.0098\n",
            "Epoch 59/100\n",
            "36/36 [==============================] - 0s 2ms/step - loss: 0.0097\n",
            "Epoch 60/100\n",
            "36/36 [==============================] - 0s 1ms/step - loss: 0.0096\n",
            "Epoch 61/100\n",
            "36/36 [==============================] - 0s 1ms/step - loss: 0.0095\n",
            "Epoch 62/100\n",
            "36/36 [==============================] - 0s 2ms/step - loss: 0.0093\n",
            "Epoch 63/100\n",
            "36/36 [==============================] - 0s 2ms/step - loss: 0.0093\n",
            "Epoch 64/100\n",
            "36/36 [==============================] - 0s 1ms/step - loss: 0.0091\n",
            "Epoch 65/100\n",
            "36/36 [==============================] - 0s 2ms/step - loss: 0.0091\n",
            "Epoch 66/100\n",
            "36/36 [==============================] - 0s 2ms/step - loss: 0.0090\n",
            "Epoch 67/100\n",
            "36/36 [==============================] - 0s 1ms/step - loss: 0.0089\n",
            "Epoch 68/100\n",
            "36/36 [==============================] - 0s 2ms/step - loss: 0.0088\n",
            "Epoch 69/100\n",
            "36/36 [==============================] - 0s 2ms/step - loss: 0.0088\n",
            "Epoch 70/100\n",
            "36/36 [==============================] - 0s 2ms/step - loss: 0.0087\n",
            "Epoch 71/100\n",
            "36/36 [==============================] - 0s 2ms/step - loss: 0.0086\n",
            "Epoch 72/100\n",
            "36/36 [==============================] - 0s 2ms/step - loss: 0.0086\n",
            "Epoch 73/100\n",
            "36/36 [==============================] - 0s 2ms/step - loss: 0.0085\n",
            "Epoch 74/100\n",
            "36/36 [==============================] - 0s 2ms/step - loss: 0.0085\n",
            "Epoch 75/100\n",
            "36/36 [==============================] - 0s 2ms/step - loss: 0.0084\n",
            "Epoch 76/100\n",
            "36/36 [==============================] - 0s 1ms/step - loss: 0.0083\n",
            "Epoch 77/100\n",
            "36/36 [==============================] - 0s 2ms/step - loss: 0.0083\n",
            "Epoch 78/100\n",
            "36/36 [==============================] - 0s 1ms/step - loss: 0.0083\n",
            "Epoch 79/100\n",
            "36/36 [==============================] - 0s 1ms/step - loss: 0.0082\n",
            "Epoch 80/100\n",
            "36/36 [==============================] - 0s 2ms/step - loss: 0.0082\n",
            "Epoch 81/100\n",
            "36/36 [==============================] - 0s 2ms/step - loss: 0.0081\n",
            "Epoch 82/100\n",
            "36/36 [==============================] - 0s 2ms/step - loss: 0.0081\n",
            "Epoch 83/100\n",
            "36/36 [==============================] - 0s 2ms/step - loss: 0.0081\n",
            "Epoch 84/100\n",
            "36/36 [==============================] - 0s 2ms/step - loss: 0.0080\n",
            "Epoch 85/100\n",
            "36/36 [==============================] - 0s 1ms/step - loss: 0.0080\n",
            "Epoch 86/100\n",
            "36/36 [==============================] - 0s 1ms/step - loss: 0.0080\n",
            "Epoch 87/100\n",
            "36/36 [==============================] - 0s 1ms/step - loss: 0.0079\n",
            "Epoch 88/100\n",
            "36/36 [==============================] - 0s 2ms/step - loss: 0.0079\n",
            "Epoch 89/100\n",
            "36/36 [==============================] - 0s 2ms/step - loss: 0.0079\n",
            "Epoch 90/100\n",
            "36/36 [==============================] - 0s 1ms/step - loss: 0.0078\n",
            "Epoch 91/100\n",
            "36/36 [==============================] - 0s 1ms/step - loss: 0.0078\n",
            "Epoch 92/100\n",
            "36/36 [==============================] - 0s 1ms/step - loss: 0.0078\n",
            "Epoch 93/100\n",
            "36/36 [==============================] - 0s 2ms/step - loss: 0.0078\n",
            "Epoch 94/100\n",
            "36/36 [==============================] - 0s 2ms/step - loss: 0.0078\n",
            "Epoch 95/100\n",
            "36/36 [==============================] - 0s 1ms/step - loss: 0.0077\n",
            "Epoch 96/100\n",
            "36/36 [==============================] - 0s 2ms/step - loss: 0.0077\n",
            "Epoch 97/100\n",
            "36/36 [==============================] - 0s 1ms/step - loss: 0.0077\n",
            "Epoch 98/100\n",
            "36/36 [==============================] - 0s 1ms/step - loss: 0.0077\n",
            "Epoch 99/100\n",
            "36/36 [==============================] - 0s 1ms/step - loss: 0.0077\n",
            "Epoch 100/100\n",
            "36/36 [==============================] - 0s 2ms/step - loss: 0.0077\n"
          ]
        },
        {
          "output_type": "execute_result",
          "data": {
            "text/plain": [
              "<keras.callbacks.History at 0x7f7d5c6dee50>"
            ]
          },
          "metadata": {},
          "execution_count": 56
        }
      ]
    },
    {
      "cell_type": "code",
      "metadata": {
        "id": "W6SPdgSFbACV"
      },
      "source": [
        "y_pred=model.predict(x_test)"
      ],
      "execution_count": 57,
      "outputs": []
    },
    {
      "cell_type": "code",
      "metadata": {
        "colab": {
          "base_uri": "https://localhost:8080/"
        },
        "id": "H9NMQXtIbFTy",
        "outputId": "f410e6bc-7c14-47af-aeb4-02ffcc96712a"
      },
      "source": [
        "r2_score(y_test,y_pred)"
      ],
      "execution_count": 58,
      "outputs": [
        {
          "output_type": "execute_result",
          "data": {
            "text/plain": [
              "0.6613139944171326"
            ]
          },
          "metadata": {},
          "execution_count": 58
        }
      ]
    },
    {
      "cell_type": "markdown",
      "metadata": {
        "id": "cG1jgw4EbLEw"
      },
      "source": [
        "**2. Increasing the number of nodel of the hidden layer from 3 to 7**"
      ]
    },
    {
      "cell_type": "code",
      "metadata": {
        "id": "i4w_1oKUbHv3"
      },
      "source": [
        "model=Sequential()"
      ],
      "execution_count": 73,
      "outputs": []
    },
    {
      "cell_type": "code",
      "metadata": {
        "id": "XKcGIMWMbXbD"
      },
      "source": [
        "model.add(Dense(4,activation='relu',input_dim=x_train.shape[1]))\n",
        "model.add(Dense(1,activation='linear'))"
      ],
      "execution_count": 80,
      "outputs": []
    },
    {
      "cell_type": "code",
      "metadata": {
        "colab": {
          "base_uri": "https://localhost:8080/"
        },
        "id": "f0EAil4BbfpE",
        "outputId": "a3a2cc6d-742f-4550-940a-70fafde581e8"
      },
      "source": [
        "model.summary()"
      ],
      "execution_count": 81,
      "outputs": [
        {
          "output_type": "stream",
          "name": "stdout",
          "text": [
            "Model: \"sequential_5\"\n",
            "_________________________________________________________________\n",
            " Layer (type)                Output Shape              Param #   \n",
            "=================================================================\n",
            " dense_11 (Dense)            (None, 5)                 40        \n",
            "                                                                 \n",
            " dense_12 (Dense)            (None, 1)                 6         \n",
            "                                                                 \n",
            " dense_13 (Dense)            (None, 4)                 8         \n",
            "                                                                 \n",
            " dense_14 (Dense)            (None, 1)                 5         \n",
            "                                                                 \n",
            "=================================================================\n",
            "Total params: 59\n",
            "Trainable params: 59\n",
            "Non-trainable params: 0\n",
            "_________________________________________________________________\n"
          ]
        }
      ]
    },
    {
      "cell_type": "code",
      "metadata": {
        "id": "C8N3ARkYbjb_"
      },
      "source": [
        "model.compile(optimizer='Adam',loss='mean_squared_error')"
      ],
      "execution_count": 82,
      "outputs": []
    },
    {
      "cell_type": "code",
      "metadata": {
        "colab": {
          "base_uri": "https://localhost:8080/"
        },
        "id": "EHjuj_hNboRU",
        "outputId": "827062fc-9723-47bf-8954-e1f46c7d69c9"
      },
      "source": [
        "model.fit(x_train,y_train,epochs=100,batch_size=10,verbose=1)"
      ],
      "execution_count": 83,
      "outputs": [
        {
          "output_type": "stream",
          "name": "stdout",
          "text": [
            "Epoch 1/100\n",
            "36/36 [==============================] - 1s 2ms/step - loss: 0.5809\n",
            "Epoch 2/100\n",
            "36/36 [==============================] - 0s 2ms/step - loss: 0.4857\n",
            "Epoch 3/100\n",
            "36/36 [==============================] - 0s 2ms/step - loss: 0.3510\n",
            "Epoch 4/100\n",
            "36/36 [==============================] - 0s 2ms/step - loss: 0.2215\n",
            "Epoch 5/100\n",
            "36/36 [==============================] - 0s 2ms/step - loss: 0.1771\n",
            "Epoch 6/100\n",
            "36/36 [==============================] - 0s 2ms/step - loss: 0.1002\n",
            "Epoch 7/100\n",
            "36/36 [==============================] - 0s 2ms/step - loss: 0.0479\n",
            "Epoch 8/100\n",
            "36/36 [==============================] - 0s 2ms/step - loss: 0.0251\n",
            "Epoch 9/100\n",
            "36/36 [==============================] - 0s 2ms/step - loss: 0.0162\n",
            "Epoch 10/100\n",
            "36/36 [==============================] - 0s 2ms/step - loss: 0.0128\n",
            "Epoch 11/100\n",
            "36/36 [==============================] - 0s 2ms/step - loss: 0.0112\n",
            "Epoch 12/100\n",
            "36/36 [==============================] - 0s 2ms/step - loss: 0.0105\n",
            "Epoch 13/100\n",
            "36/36 [==============================] - 0s 2ms/step - loss: 0.0099\n",
            "Epoch 14/100\n",
            "36/36 [==============================] - 0s 2ms/step - loss: 0.0096\n",
            "Epoch 15/100\n",
            "36/36 [==============================] - 0s 2ms/step - loss: 0.0094\n",
            "Epoch 16/100\n",
            "36/36 [==============================] - 0s 2ms/step - loss: 0.0092\n",
            "Epoch 17/100\n",
            "36/36 [==============================] - 0s 2ms/step - loss: 0.0090\n",
            "Epoch 18/100\n",
            "36/36 [==============================] - 0s 2ms/step - loss: 0.0089\n",
            "Epoch 19/100\n",
            "36/36 [==============================] - 0s 2ms/step - loss: 0.0088\n",
            "Epoch 20/100\n",
            "36/36 [==============================] - 0s 2ms/step - loss: 0.0087\n",
            "Epoch 21/100\n",
            "36/36 [==============================] - 0s 2ms/step - loss: 0.0085\n",
            "Epoch 22/100\n",
            "36/36 [==============================] - 0s 2ms/step - loss: 0.0085\n",
            "Epoch 23/100\n",
            "36/36 [==============================] - 0s 3ms/step - loss: 0.0084\n",
            "Epoch 24/100\n",
            "36/36 [==============================] - 0s 2ms/step - loss: 0.0083\n",
            "Epoch 25/100\n",
            "36/36 [==============================] - 0s 2ms/step - loss: 0.0082\n",
            "Epoch 26/100\n",
            "36/36 [==============================] - 0s 2ms/step - loss: 0.0082\n",
            "Epoch 27/100\n",
            "36/36 [==============================] - 0s 2ms/step - loss: 0.0081\n",
            "Epoch 28/100\n",
            "36/36 [==============================] - 0s 2ms/step - loss: 0.0080\n",
            "Epoch 29/100\n",
            "36/36 [==============================] - 0s 2ms/step - loss: 0.0080\n",
            "Epoch 30/100\n",
            "36/36 [==============================] - 0s 2ms/step - loss: 0.0079\n",
            "Epoch 31/100\n",
            "36/36 [==============================] - 0s 2ms/step - loss: 0.0079\n",
            "Epoch 32/100\n",
            "36/36 [==============================] - 0s 2ms/step - loss: 0.0078\n",
            "Epoch 33/100\n",
            "36/36 [==============================] - 0s 2ms/step - loss: 0.0077\n",
            "Epoch 34/100\n",
            "36/36 [==============================] - 0s 2ms/step - loss: 0.0077\n",
            "Epoch 35/100\n",
            "36/36 [==============================] - 0s 2ms/step - loss: 0.0076\n",
            "Epoch 36/100\n",
            "36/36 [==============================] - 0s 2ms/step - loss: 0.0076\n",
            "Epoch 37/100\n",
            "36/36 [==============================] - 0s 2ms/step - loss: 0.0075\n",
            "Epoch 38/100\n",
            "36/36 [==============================] - 0s 2ms/step - loss: 0.0075\n",
            "Epoch 39/100\n",
            "36/36 [==============================] - 0s 2ms/step - loss: 0.0074\n",
            "Epoch 40/100\n",
            "36/36 [==============================] - 0s 2ms/step - loss: 0.0074\n",
            "Epoch 41/100\n",
            "36/36 [==============================] - 0s 2ms/step - loss: 0.0073\n",
            "Epoch 42/100\n",
            "36/36 [==============================] - 0s 2ms/step - loss: 0.0073\n",
            "Epoch 43/100\n",
            "36/36 [==============================] - 0s 2ms/step - loss: 0.0073\n",
            "Epoch 44/100\n",
            "36/36 [==============================] - 0s 2ms/step - loss: 0.0073\n",
            "Epoch 45/100\n",
            "36/36 [==============================] - 0s 2ms/step - loss: 0.0072\n",
            "Epoch 46/100\n",
            "36/36 [==============================] - 0s 2ms/step - loss: 0.0071\n",
            "Epoch 47/100\n",
            "36/36 [==============================] - 0s 2ms/step - loss: 0.0071\n",
            "Epoch 48/100\n",
            "36/36 [==============================] - 0s 2ms/step - loss: 0.0071\n",
            "Epoch 49/100\n",
            "36/36 [==============================] - 0s 2ms/step - loss: 0.0070\n",
            "Epoch 50/100\n",
            "36/36 [==============================] - 0s 2ms/step - loss: 0.0070\n",
            "Epoch 51/100\n",
            "36/36 [==============================] - 0s 2ms/step - loss: 0.0069\n",
            "Epoch 52/100\n",
            "36/36 [==============================] - 0s 2ms/step - loss: 0.0069\n",
            "Epoch 53/100\n",
            "36/36 [==============================] - 0s 2ms/step - loss: 0.0069\n",
            "Epoch 54/100\n",
            "36/36 [==============================] - 0s 2ms/step - loss: 0.0068\n",
            "Epoch 55/100\n",
            "36/36 [==============================] - 0s 2ms/step - loss: 0.0068\n",
            "Epoch 56/100\n",
            "36/36 [==============================] - 0s 2ms/step - loss: 0.0067\n",
            "Epoch 57/100\n",
            "36/36 [==============================] - 0s 2ms/step - loss: 0.0067\n",
            "Epoch 58/100\n",
            "36/36 [==============================] - 0s 2ms/step - loss: 0.0066\n",
            "Epoch 59/100\n",
            "36/36 [==============================] - 0s 2ms/step - loss: 0.0066\n",
            "Epoch 60/100\n",
            "36/36 [==============================] - 0s 2ms/step - loss: 0.0065\n",
            "Epoch 61/100\n",
            "36/36 [==============================] - 0s 2ms/step - loss: 0.0065\n",
            "Epoch 62/100\n",
            "36/36 [==============================] - 0s 2ms/step - loss: 0.0064\n",
            "Epoch 63/100\n",
            "36/36 [==============================] - 0s 2ms/step - loss: 0.0064\n",
            "Epoch 64/100\n",
            "36/36 [==============================] - 0s 2ms/step - loss: 0.0064\n",
            "Epoch 65/100\n",
            "36/36 [==============================] - 0s 2ms/step - loss: 0.0064\n",
            "Epoch 66/100\n",
            "36/36 [==============================] - 0s 2ms/step - loss: 0.0063\n",
            "Epoch 67/100\n",
            "36/36 [==============================] - 0s 2ms/step - loss: 0.0062\n",
            "Epoch 68/100\n",
            "36/36 [==============================] - 0s 2ms/step - loss: 0.0062\n",
            "Epoch 69/100\n",
            "36/36 [==============================] - 0s 2ms/step - loss: 0.0061\n",
            "Epoch 70/100\n",
            "36/36 [==============================] - 0s 2ms/step - loss: 0.0061\n",
            "Epoch 71/100\n",
            "36/36 [==============================] - 0s 2ms/step - loss: 0.0060\n",
            "Epoch 72/100\n",
            "36/36 [==============================] - 0s 1ms/step - loss: 0.0060\n",
            "Epoch 73/100\n",
            "36/36 [==============================] - 0s 2ms/step - loss: 0.0059\n",
            "Epoch 74/100\n",
            "36/36 [==============================] - 0s 2ms/step - loss: 0.0058\n",
            "Epoch 75/100\n",
            "36/36 [==============================] - 0s 2ms/step - loss: 0.0058\n",
            "Epoch 76/100\n",
            "36/36 [==============================] - 0s 2ms/step - loss: 0.0057\n",
            "Epoch 77/100\n",
            "36/36 [==============================] - 0s 2ms/step - loss: 0.0057\n",
            "Epoch 78/100\n",
            "36/36 [==============================] - 0s 2ms/step - loss: 0.0056\n",
            "Epoch 79/100\n",
            "36/36 [==============================] - 0s 2ms/step - loss: 0.0056\n",
            "Epoch 80/100\n",
            "36/36 [==============================] - 0s 2ms/step - loss: 0.0056\n",
            "Epoch 81/100\n",
            "36/36 [==============================] - 0s 2ms/step - loss: 0.0055\n",
            "Epoch 82/100\n",
            "36/36 [==============================] - 0s 2ms/step - loss: 0.0054\n",
            "Epoch 83/100\n",
            "36/36 [==============================] - 0s 2ms/step - loss: 0.0054\n",
            "Epoch 84/100\n",
            "36/36 [==============================] - 0s 2ms/step - loss: 0.0053\n",
            "Epoch 85/100\n",
            "36/36 [==============================] - 0s 2ms/step - loss: 0.0052\n",
            "Epoch 86/100\n",
            "36/36 [==============================] - 0s 2ms/step - loss: 0.0052\n",
            "Epoch 87/100\n",
            "36/36 [==============================] - 0s 2ms/step - loss: 0.0052\n",
            "Epoch 88/100\n",
            "36/36 [==============================] - 0s 2ms/step - loss: 0.0051\n",
            "Epoch 89/100\n",
            "36/36 [==============================] - 0s 2ms/step - loss: 0.0050\n",
            "Epoch 90/100\n",
            "36/36 [==============================] - 0s 2ms/step - loss: 0.0050\n",
            "Epoch 91/100\n",
            "36/36 [==============================] - 0s 2ms/step - loss: 0.0050\n",
            "Epoch 92/100\n",
            "36/36 [==============================] - 0s 2ms/step - loss: 0.0051\n",
            "Epoch 93/100\n",
            "36/36 [==============================] - 0s 2ms/step - loss: 0.0049\n",
            "Epoch 94/100\n",
            "36/36 [==============================] - 0s 2ms/step - loss: 0.0049\n",
            "Epoch 95/100\n",
            "36/36 [==============================] - 0s 2ms/step - loss: 0.0049\n",
            "Epoch 96/100\n",
            "36/36 [==============================] - 0s 2ms/step - loss: 0.0049\n",
            "Epoch 97/100\n",
            "36/36 [==============================] - 0s 2ms/step - loss: 0.0049\n",
            "Epoch 98/100\n",
            "36/36 [==============================] - 0s 2ms/step - loss: 0.0049\n",
            "Epoch 99/100\n",
            "36/36 [==============================] - 0s 2ms/step - loss: 0.0048\n",
            "Epoch 100/100\n",
            "36/36 [==============================] - 0s 2ms/step - loss: 0.0049\n"
          ]
        },
        {
          "output_type": "execute_result",
          "data": {
            "text/plain": [
              "<keras.callbacks.History at 0x7f7d5c283a10>"
            ]
          },
          "metadata": {},
          "execution_count": 83
        }
      ]
    },
    {
      "cell_type": "code",
      "metadata": {
        "colab": {
          "base_uri": "https://localhost:8080/"
        },
        "id": "Iz0pbPRsbtSD",
        "outputId": "2c723657-86b5-457f-9725-4c5e088587ca"
      },
      "source": [
        "y_pred=model.predict(x_test)"
      ],
      "execution_count": 84,
      "outputs": [
        {
          "output_type": "stream",
          "name": "stdout",
          "text": [
            "WARNING:tensorflow:6 out of the last 11 calls to <function Model.make_predict_function.<locals>.predict_function at 0x7f7d5c267cb0> triggered tf.function retracing. Tracing is expensive and the excessive number of tracings could be due to (1) creating @tf.function repeatedly in a loop, (2) passing tensors with different shapes, (3) passing Python objects instead of tensors. For (1), please define your @tf.function outside of the loop. For (2), @tf.function has experimental_relax_shapes=True option that relaxes argument shapes that can avoid unnecessary retracing. For (3), please refer to https://www.tensorflow.org/guide/function#controlling_retracing and https://www.tensorflow.org/api_docs/python/tf/function for  more details.\n"
          ]
        }
      ]
    },
    {
      "cell_type": "code",
      "metadata": {
        "colab": {
          "base_uri": "https://localhost:8080/"
        },
        "id": "1-8ZIv5Ibx_Y",
        "outputId": "72b0ccf6-fce1-4162-bdae-6861ff8ba96f"
      },
      "source": [
        "r2_score(y_test,y_pred)"
      ],
      "execution_count": 85,
      "outputs": [
        {
          "output_type": "execute_result",
          "data": {
            "text/plain": [
              "0.707811261465082"
            ]
          },
          "metadata": {},
          "execution_count": 85
        }
      ]
    },
    {
      "cell_type": "markdown",
      "metadata": {
        "id": "sTs6U9aSeIZE"
      },
      "source": [
        "**3. Adding one more hidden layer**"
      ]
    },
    {
      "cell_type": "code",
      "metadata": {
        "id": "r4RsJ321b1Wx"
      },
      "source": [
        "model=Sequential()"
      ],
      "execution_count": 130,
      "outputs": []
    },
    {
      "cell_type": "code",
      "metadata": {
        "id": "oJoHgH-neQPF"
      },
      "source": [
        "model.add(Dense(4,activation='relu',input_dim=x_train.shape[1]))\n",
        "model.add(Dense(5,activation='relu'))\n",
        "model.add(Dense(1,activation='linear'))"
      ],
      "execution_count": 131,
      "outputs": []
    },
    {
      "cell_type": "code",
      "metadata": {
        "colab": {
          "base_uri": "https://localhost:8080/"
        },
        "id": "phjV0-1nekpk",
        "outputId": "fa9f0fb6-a54c-4154-82ba-b60963b136aa"
      },
      "source": [
        "model.summary()"
      ],
      "execution_count": 132,
      "outputs": [
        {
          "output_type": "stream",
          "name": "stdout",
          "text": [
            "Model: \"sequential_11\"\n",
            "_________________________________________________________________\n",
            " Layer (type)                Output Shape              Param #   \n",
            "=================================================================\n",
            " dense_30 (Dense)            (None, 4)                 32        \n",
            "                                                                 \n",
            " dense_31 (Dense)            (None, 5)                 25        \n",
            "                                                                 \n",
            " dense_32 (Dense)            (None, 1)                 6         \n",
            "                                                                 \n",
            "=================================================================\n",
            "Total params: 63\n",
            "Trainable params: 63\n",
            "Non-trainable params: 0\n",
            "_________________________________________________________________\n"
          ]
        }
      ]
    },
    {
      "cell_type": "code",
      "metadata": {
        "id": "2E1qDGgfeuqk"
      },
      "source": [
        "model.compile(optimizer='Adam',loss='mean_squared_error')"
      ],
      "execution_count": 133,
      "outputs": []
    },
    {
      "cell_type": "code",
      "metadata": {
        "colab": {
          "base_uri": "https://localhost:8080/"
        },
        "id": "gMSh4T3ie46c",
        "outputId": "4b6ef0ab-9944-4358-c16b-0cbc4932fa8f"
      },
      "source": [
        "model.fit(x_train,y_train,epochs=100,batch_size=10,verbose=1)"
      ],
      "execution_count": 134,
      "outputs": [
        {
          "output_type": "stream",
          "name": "stdout",
          "text": [
            "Epoch 1/100\n",
            "36/36 [==============================] - 0s 2ms/step - loss: 0.2043\n",
            "Epoch 2/100\n",
            "36/36 [==============================] - 0s 2ms/step - loss: 0.1564\n",
            "Epoch 3/100\n",
            "36/36 [==============================] - 0s 2ms/step - loss: 0.1280\n",
            "Epoch 4/100\n",
            "36/36 [==============================] - 0s 1ms/step - loss: 0.1079\n",
            "Epoch 5/100\n",
            "36/36 [==============================] - 0s 2ms/step - loss: 0.0911\n",
            "Epoch 6/100\n",
            "36/36 [==============================] - 0s 1ms/step - loss: 0.0773\n",
            "Epoch 7/100\n",
            "36/36 [==============================] - 0s 1ms/step - loss: 0.0658\n",
            "Epoch 8/100\n",
            "36/36 [==============================] - 0s 1ms/step - loss: 0.0562\n",
            "Epoch 9/100\n",
            "36/36 [==============================] - 0s 2ms/step - loss: 0.0482\n",
            "Epoch 10/100\n",
            "36/36 [==============================] - 0s 1ms/step - loss: 0.0405\n",
            "Epoch 11/100\n",
            "36/36 [==============================] - 0s 2ms/step - loss: 0.0336\n",
            "Epoch 12/100\n",
            "36/36 [==============================] - 0s 2ms/step - loss: 0.0284\n",
            "Epoch 13/100\n",
            "36/36 [==============================] - 0s 2ms/step - loss: 0.0251\n",
            "Epoch 14/100\n",
            "36/36 [==============================] - 0s 1ms/step - loss: 0.0225\n",
            "Epoch 15/100\n",
            "36/36 [==============================] - 0s 2ms/step - loss: 0.0204\n",
            "Epoch 16/100\n",
            "36/36 [==============================] - 0s 1ms/step - loss: 0.0185\n",
            "Epoch 17/100\n",
            "36/36 [==============================] - 0s 2ms/step - loss: 0.0170\n",
            "Epoch 18/100\n",
            "36/36 [==============================] - 0s 2ms/step - loss: 0.0156\n",
            "Epoch 19/100\n",
            "36/36 [==============================] - 0s 1ms/step - loss: 0.0143\n",
            "Epoch 20/100\n",
            "36/36 [==============================] - 0s 2ms/step - loss: 0.0131\n",
            "Epoch 21/100\n",
            "36/36 [==============================] - 0s 2ms/step - loss: 0.0119\n",
            "Epoch 22/100\n",
            "36/36 [==============================] - 0s 2ms/step - loss: 0.0111\n",
            "Epoch 23/100\n",
            "36/36 [==============================] - 0s 1ms/step - loss: 0.0100\n",
            "Epoch 24/100\n",
            "36/36 [==============================] - 0s 1ms/step - loss: 0.0092\n",
            "Epoch 25/100\n",
            "36/36 [==============================] - 0s 1ms/step - loss: 0.0086\n",
            "Epoch 26/100\n",
            "36/36 [==============================] - 0s 1ms/step - loss: 0.0082\n",
            "Epoch 27/100\n",
            "36/36 [==============================] - 0s 2ms/step - loss: 0.0078\n",
            "Epoch 28/100\n",
            "36/36 [==============================] - 0s 1ms/step - loss: 0.0076\n",
            "Epoch 29/100\n",
            "36/36 [==============================] - 0s 1ms/step - loss: 0.0074\n",
            "Epoch 30/100\n",
            "36/36 [==============================] - 0s 2ms/step - loss: 0.0073\n",
            "Epoch 31/100\n",
            "36/36 [==============================] - 0s 2ms/step - loss: 0.0072\n",
            "Epoch 32/100\n",
            "36/36 [==============================] - 0s 1ms/step - loss: 0.0070\n",
            "Epoch 33/100\n",
            "36/36 [==============================] - 0s 2ms/step - loss: 0.0069\n",
            "Epoch 34/100\n",
            "36/36 [==============================] - 0s 1ms/step - loss: 0.0067\n",
            "Epoch 35/100\n",
            "36/36 [==============================] - 0s 2ms/step - loss: 0.0066\n",
            "Epoch 36/100\n",
            "36/36 [==============================] - 0s 1ms/step - loss: 0.0066\n",
            "Epoch 37/100\n",
            "36/36 [==============================] - 0s 1ms/step - loss: 0.0064\n",
            "Epoch 38/100\n",
            "36/36 [==============================] - 0s 2ms/step - loss: 0.0064\n",
            "Epoch 39/100\n",
            "36/36 [==============================] - 0s 1ms/step - loss: 0.0063\n",
            "Epoch 40/100\n",
            "36/36 [==============================] - 0s 2ms/step - loss: 0.0062\n",
            "Epoch 41/100\n",
            "36/36 [==============================] - 0s 1ms/step - loss: 0.0065\n",
            "Epoch 42/100\n",
            "36/36 [==============================] - 0s 1ms/step - loss: 0.0062\n",
            "Epoch 43/100\n",
            "36/36 [==============================] - 0s 2ms/step - loss: 0.0061\n",
            "Epoch 44/100\n",
            "36/36 [==============================] - 0s 2ms/step - loss: 0.0061\n",
            "Epoch 45/100\n",
            "36/36 [==============================] - 0s 1ms/step - loss: 0.0060\n",
            "Epoch 46/100\n",
            "36/36 [==============================] - 0s 1ms/step - loss: 0.0061\n",
            "Epoch 47/100\n",
            "36/36 [==============================] - 0s 1ms/step - loss: 0.0061\n",
            "Epoch 48/100\n",
            "36/36 [==============================] - 0s 2ms/step - loss: 0.0060\n",
            "Epoch 49/100\n",
            "36/36 [==============================] - 0s 2ms/step - loss: 0.0058\n",
            "Epoch 50/100\n",
            "36/36 [==============================] - 0s 1ms/step - loss: 0.0058\n",
            "Epoch 51/100\n",
            "36/36 [==============================] - 0s 1ms/step - loss: 0.0058\n",
            "Epoch 52/100\n",
            "36/36 [==============================] - 0s 2ms/step - loss: 0.0057\n",
            "Epoch 53/100\n",
            "36/36 [==============================] - 0s 1ms/step - loss: 0.0058\n",
            "Epoch 54/100\n",
            "36/36 [==============================] - 0s 2ms/step - loss: 0.0058\n",
            "Epoch 55/100\n",
            "36/36 [==============================] - 0s 2ms/step - loss: 0.0056\n",
            "Epoch 56/100\n",
            "36/36 [==============================] - 0s 2ms/step - loss: 0.0056\n",
            "Epoch 57/100\n",
            "36/36 [==============================] - 0s 1ms/step - loss: 0.0056\n",
            "Epoch 58/100\n",
            "36/36 [==============================] - 0s 2ms/step - loss: 0.0056\n",
            "Epoch 59/100\n",
            "36/36 [==============================] - 0s 2ms/step - loss: 0.0056\n",
            "Epoch 60/100\n",
            "36/36 [==============================] - 0s 1ms/step - loss: 0.0056\n",
            "Epoch 61/100\n",
            "36/36 [==============================] - 0s 2ms/step - loss: 0.0054\n",
            "Epoch 62/100\n",
            "36/36 [==============================] - 0s 2ms/step - loss: 0.0056\n",
            "Epoch 63/100\n",
            "36/36 [==============================] - 0s 2ms/step - loss: 0.0053\n",
            "Epoch 64/100\n",
            "36/36 [==============================] - 0s 2ms/step - loss: 0.0053\n",
            "Epoch 65/100\n",
            "36/36 [==============================] - 0s 1ms/step - loss: 0.0053\n",
            "Epoch 66/100\n",
            "36/36 [==============================] - 0s 2ms/step - loss: 0.0054\n",
            "Epoch 67/100\n",
            "36/36 [==============================] - 0s 2ms/step - loss: 0.0053\n",
            "Epoch 68/100\n",
            "36/36 [==============================] - 0s 2ms/step - loss: 0.0053\n",
            "Epoch 69/100\n",
            "36/36 [==============================] - 0s 2ms/step - loss: 0.0053\n",
            "Epoch 70/100\n",
            "36/36 [==============================] - 0s 2ms/step - loss: 0.0052\n",
            "Epoch 71/100\n",
            "36/36 [==============================] - 0s 1ms/step - loss: 0.0051\n",
            "Epoch 72/100\n",
            "36/36 [==============================] - 0s 1ms/step - loss: 0.0051\n",
            "Epoch 73/100\n",
            "36/36 [==============================] - 0s 2ms/step - loss: 0.0052\n",
            "Epoch 74/100\n",
            "36/36 [==============================] - 0s 2ms/step - loss: 0.0051\n",
            "Epoch 75/100\n",
            "36/36 [==============================] - 0s 2ms/step - loss: 0.0050\n",
            "Epoch 76/100\n",
            "36/36 [==============================] - 0s 1ms/step - loss: 0.0050\n",
            "Epoch 77/100\n",
            "36/36 [==============================] - 0s 1ms/step - loss: 0.0051\n",
            "Epoch 78/100\n",
            "36/36 [==============================] - 0s 2ms/step - loss: 0.0049\n",
            "Epoch 79/100\n",
            "36/36 [==============================] - 0s 2ms/step - loss: 0.0049\n",
            "Epoch 80/100\n",
            "36/36 [==============================] - 0s 2ms/step - loss: 0.0050\n",
            "Epoch 81/100\n",
            "36/36 [==============================] - 0s 2ms/step - loss: 0.0048\n",
            "Epoch 82/100\n",
            "36/36 [==============================] - 0s 2ms/step - loss: 0.0048\n",
            "Epoch 83/100\n",
            "36/36 [==============================] - 0s 2ms/step - loss: 0.0049\n",
            "Epoch 84/100\n",
            "36/36 [==============================] - 0s 2ms/step - loss: 0.0049\n",
            "Epoch 85/100\n",
            "36/36 [==============================] - 0s 2ms/step - loss: 0.0048\n",
            "Epoch 86/100\n",
            "36/36 [==============================] - 0s 1ms/step - loss: 0.0048\n",
            "Epoch 87/100\n",
            "36/36 [==============================] - 0s 2ms/step - loss: 0.0048\n",
            "Epoch 88/100\n",
            "36/36 [==============================] - 0s 2ms/step - loss: 0.0048\n",
            "Epoch 89/100\n",
            "36/36 [==============================] - 0s 2ms/step - loss: 0.0047\n",
            "Epoch 90/100\n",
            "36/36 [==============================] - 0s 1ms/step - loss: 0.0046\n",
            "Epoch 91/100\n",
            "36/36 [==============================] - 0s 2ms/step - loss: 0.0047\n",
            "Epoch 92/100\n",
            "36/36 [==============================] - 0s 2ms/step - loss: 0.0046\n",
            "Epoch 93/100\n",
            "36/36 [==============================] - 0s 2ms/step - loss: 0.0046\n",
            "Epoch 94/100\n",
            "36/36 [==============================] - 0s 2ms/step - loss: 0.0046\n",
            "Epoch 95/100\n",
            "36/36 [==============================] - 0s 2ms/step - loss: 0.0046\n",
            "Epoch 96/100\n",
            "36/36 [==============================] - 0s 2ms/step - loss: 0.0046\n",
            "Epoch 97/100\n",
            "36/36 [==============================] - 0s 2ms/step - loss: 0.0045\n",
            "Epoch 98/100\n",
            "36/36 [==============================] - 0s 2ms/step - loss: 0.0045\n",
            "Epoch 99/100\n",
            "36/36 [==============================] - 0s 1ms/step - loss: 0.0045\n",
            "Epoch 100/100\n",
            "36/36 [==============================] - 0s 2ms/step - loss: 0.0044\n"
          ]
        },
        {
          "output_type": "execute_result",
          "data": {
            "text/plain": [
              "<keras.callbacks.History at 0x7f7d51235d10>"
            ]
          },
          "metadata": {},
          "execution_count": 134
        }
      ]
    },
    {
      "cell_type": "code",
      "metadata": {
        "id": "tKmDgHo3fCtB"
      },
      "source": [
        "y_pred=model.predict(x_test)"
      ],
      "execution_count": 135,
      "outputs": []
    },
    {
      "cell_type": "code",
      "metadata": {
        "colab": {
          "base_uri": "https://localhost:8080/"
        },
        "id": "UOjq1rsifIV-",
        "outputId": "c7d5160f-a6e0-48bf-8140-94d74ff4854b"
      },
      "source": [
        "r2_score(y_test,y_pred)"
      ],
      "execution_count": 136,
      "outputs": [
        {
          "output_type": "execute_result",
          "data": {
            "text/plain": [
              "0.6897050546669372"
            ]
          },
          "metadata": {},
          "execution_count": 136
        }
      ]
    },
    {
      "cell_type": "markdown",
      "metadata": {
        "id": "OZUzPqeqkI0U"
      },
      "source": [
        "**Introducing Validation Set**"
      ]
    },
    {
      "cell_type": "code",
      "metadata": {
        "colab": {
          "base_uri": "https://localhost:8080/"
        },
        "id": "Ioo9oCcffK1c",
        "outputId": "70be9848-a562-4a74-ef4f-346f5c8ac579"
      },
      "source": [
        "history=model.fit(x_train,y_train,batch_size=10,epochs=100,verbose=1,validation_split=0.2)"
      ],
      "execution_count": 137,
      "outputs": [
        {
          "output_type": "stream",
          "name": "stdout",
          "text": [
            "Epoch 1/100\n",
            "29/29 [==============================] - 0s 8ms/step - loss: 0.0045 - val_loss: 0.0043\n",
            "Epoch 2/100\n",
            "29/29 [==============================] - 0s 3ms/step - loss: 0.0046 - val_loss: 0.0043\n",
            "Epoch 3/100\n",
            "29/29 [==============================] - 0s 3ms/step - loss: 0.0045 - val_loss: 0.0045\n",
            "Epoch 4/100\n",
            "29/29 [==============================] - 0s 4ms/step - loss: 0.0044 - val_loss: 0.0043\n",
            "Epoch 5/100\n",
            "29/29 [==============================] - 0s 4ms/step - loss: 0.0044 - val_loss: 0.0044\n",
            "Epoch 6/100\n",
            "29/29 [==============================] - 0s 4ms/step - loss: 0.0044 - val_loss: 0.0046\n",
            "Epoch 7/100\n",
            "29/29 [==============================] - 0s 3ms/step - loss: 0.0045 - val_loss: 0.0047\n",
            "Epoch 8/100\n",
            "29/29 [==============================] - 0s 4ms/step - loss: 0.0044 - val_loss: 0.0045\n",
            "Epoch 9/100\n",
            "29/29 [==============================] - 0s 4ms/step - loss: 0.0044 - val_loss: 0.0042\n",
            "Epoch 10/100\n",
            "29/29 [==============================] - 0s 4ms/step - loss: 0.0043 - val_loss: 0.0047\n",
            "Epoch 11/100\n",
            "29/29 [==============================] - 0s 4ms/step - loss: 0.0043 - val_loss: 0.0043\n",
            "Epoch 12/100\n",
            "29/29 [==============================] - 0s 3ms/step - loss: 0.0043 - val_loss: 0.0044\n",
            "Epoch 13/100\n",
            "29/29 [==============================] - 0s 3ms/step - loss: 0.0044 - val_loss: 0.0042\n",
            "Epoch 14/100\n",
            "29/29 [==============================] - 0s 4ms/step - loss: 0.0043 - val_loss: 0.0044\n",
            "Epoch 15/100\n",
            "29/29 [==============================] - 0s 3ms/step - loss: 0.0043 - val_loss: 0.0042\n",
            "Epoch 16/100\n",
            "29/29 [==============================] - 0s 4ms/step - loss: 0.0043 - val_loss: 0.0045\n",
            "Epoch 17/100\n",
            "29/29 [==============================] - 0s 3ms/step - loss: 0.0043 - val_loss: 0.0044\n",
            "Epoch 18/100\n",
            "29/29 [==============================] - 0s 3ms/step - loss: 0.0043 - val_loss: 0.0042\n",
            "Epoch 19/100\n",
            "29/29 [==============================] - 0s 3ms/step - loss: 0.0043 - val_loss: 0.0041\n",
            "Epoch 20/100\n",
            "29/29 [==============================] - 0s 4ms/step - loss: 0.0044 - val_loss: 0.0042\n",
            "Epoch 21/100\n",
            "29/29 [==============================] - 0s 4ms/step - loss: 0.0043 - val_loss: 0.0045\n",
            "Epoch 22/100\n",
            "29/29 [==============================] - 0s 3ms/step - loss: 0.0042 - val_loss: 0.0041\n",
            "Epoch 23/100\n",
            "29/29 [==============================] - 0s 4ms/step - loss: 0.0042 - val_loss: 0.0047\n",
            "Epoch 24/100\n",
            "29/29 [==============================] - 0s 3ms/step - loss: 0.0044 - val_loss: 0.0044\n",
            "Epoch 25/100\n",
            "29/29 [==============================] - 0s 4ms/step - loss: 0.0043 - val_loss: 0.0041\n",
            "Epoch 26/100\n",
            "29/29 [==============================] - 0s 3ms/step - loss: 0.0043 - val_loss: 0.0042\n",
            "Epoch 27/100\n",
            "29/29 [==============================] - 0s 4ms/step - loss: 0.0042 - val_loss: 0.0041\n",
            "Epoch 28/100\n",
            "29/29 [==============================] - 0s 3ms/step - loss: 0.0042 - val_loss: 0.0041\n",
            "Epoch 29/100\n",
            "29/29 [==============================] - 0s 3ms/step - loss: 0.0042 - val_loss: 0.0041\n",
            "Epoch 30/100\n",
            "29/29 [==============================] - 0s 3ms/step - loss: 0.0043 - val_loss: 0.0042\n",
            "Epoch 31/100\n",
            "29/29 [==============================] - 0s 3ms/step - loss: 0.0041 - val_loss: 0.0040\n",
            "Epoch 32/100\n",
            "29/29 [==============================] - 0s 3ms/step - loss: 0.0042 - val_loss: 0.0040\n",
            "Epoch 33/100\n",
            "29/29 [==============================] - 0s 3ms/step - loss: 0.0042 - val_loss: 0.0040\n",
            "Epoch 34/100\n",
            "29/29 [==============================] - 0s 3ms/step - loss: 0.0043 - val_loss: 0.0041\n",
            "Epoch 35/100\n",
            "29/29 [==============================] - 0s 3ms/step - loss: 0.0043 - val_loss: 0.0041\n",
            "Epoch 36/100\n",
            "29/29 [==============================] - 0s 4ms/step - loss: 0.0042 - val_loss: 0.0044\n",
            "Epoch 37/100\n",
            "29/29 [==============================] - 0s 4ms/step - loss: 0.0045 - val_loss: 0.0042\n",
            "Epoch 38/100\n",
            "29/29 [==============================] - 0s 3ms/step - loss: 0.0042 - val_loss: 0.0042\n",
            "Epoch 39/100\n",
            "29/29 [==============================] - 0s 4ms/step - loss: 0.0041 - val_loss: 0.0041\n",
            "Epoch 40/100\n",
            "29/29 [==============================] - 0s 4ms/step - loss: 0.0041 - val_loss: 0.0041\n",
            "Epoch 41/100\n",
            "29/29 [==============================] - 0s 3ms/step - loss: 0.0041 - val_loss: 0.0041\n",
            "Epoch 42/100\n",
            "29/29 [==============================] - 0s 4ms/step - loss: 0.0041 - val_loss: 0.0040\n",
            "Epoch 43/100\n",
            "29/29 [==============================] - 0s 3ms/step - loss: 0.0041 - val_loss: 0.0041\n",
            "Epoch 44/100\n",
            "29/29 [==============================] - 0s 3ms/step - loss: 0.0041 - val_loss: 0.0042\n",
            "Epoch 45/100\n",
            "29/29 [==============================] - 0s 4ms/step - loss: 0.0041 - val_loss: 0.0040\n",
            "Epoch 46/100\n",
            "29/29 [==============================] - 0s 4ms/step - loss: 0.0040 - val_loss: 0.0044\n",
            "Epoch 47/100\n",
            "29/29 [==============================] - 0s 3ms/step - loss: 0.0041 - val_loss: 0.0040\n",
            "Epoch 48/100\n",
            "29/29 [==============================] - 0s 3ms/step - loss: 0.0040 - val_loss: 0.0045\n",
            "Epoch 49/100\n",
            "29/29 [==============================] - 0s 3ms/step - loss: 0.0041 - val_loss: 0.0043\n",
            "Epoch 50/100\n",
            "29/29 [==============================] - 0s 3ms/step - loss: 0.0041 - val_loss: 0.0043\n",
            "Epoch 51/100\n",
            "29/29 [==============================] - 0s 3ms/step - loss: 0.0041 - val_loss: 0.0040\n",
            "Epoch 52/100\n",
            "29/29 [==============================] - 0s 3ms/step - loss: 0.0041 - val_loss: 0.0040\n",
            "Epoch 53/100\n",
            "29/29 [==============================] - 0s 3ms/step - loss: 0.0041 - val_loss: 0.0040\n",
            "Epoch 54/100\n",
            "29/29 [==============================] - 0s 3ms/step - loss: 0.0040 - val_loss: 0.0041\n",
            "Epoch 55/100\n",
            "29/29 [==============================] - 0s 3ms/step - loss: 0.0042 - val_loss: 0.0040\n",
            "Epoch 56/100\n",
            "29/29 [==============================] - 0s 3ms/step - loss: 0.0041 - val_loss: 0.0040\n",
            "Epoch 57/100\n",
            "29/29 [==============================] - 0s 4ms/step - loss: 0.0040 - val_loss: 0.0041\n",
            "Epoch 58/100\n",
            "29/29 [==============================] - 0s 3ms/step - loss: 0.0040 - val_loss: 0.0040\n",
            "Epoch 59/100\n",
            "29/29 [==============================] - 0s 3ms/step - loss: 0.0041 - val_loss: 0.0040\n",
            "Epoch 60/100\n",
            "29/29 [==============================] - 0s 3ms/step - loss: 0.0042 - val_loss: 0.0040\n",
            "Epoch 61/100\n",
            "29/29 [==============================] - 0s 3ms/step - loss: 0.0041 - val_loss: 0.0040\n",
            "Epoch 62/100\n",
            "29/29 [==============================] - 0s 4ms/step - loss: 0.0041 - val_loss: 0.0041\n",
            "Epoch 63/100\n",
            "29/29 [==============================] - 0s 3ms/step - loss: 0.0040 - val_loss: 0.0040\n",
            "Epoch 64/100\n",
            "29/29 [==============================] - 0s 3ms/step - loss: 0.0041 - val_loss: 0.0040\n",
            "Epoch 65/100\n",
            "29/29 [==============================] - 0s 4ms/step - loss: 0.0040 - val_loss: 0.0041\n",
            "Epoch 66/100\n",
            "29/29 [==============================] - 0s 3ms/step - loss: 0.0042 - val_loss: 0.0039\n",
            "Epoch 67/100\n",
            "29/29 [==============================] - 0s 4ms/step - loss: 0.0041 - val_loss: 0.0040\n",
            "Epoch 68/100\n",
            "29/29 [==============================] - 0s 3ms/step - loss: 0.0040 - val_loss: 0.0039\n",
            "Epoch 69/100\n",
            "29/29 [==============================] - 0s 3ms/step - loss: 0.0040 - val_loss: 0.0040\n",
            "Epoch 70/100\n",
            "29/29 [==============================] - 0s 3ms/step - loss: 0.0039 - val_loss: 0.0041\n",
            "Epoch 71/100\n",
            "29/29 [==============================] - 0s 3ms/step - loss: 0.0040 - val_loss: 0.0040\n",
            "Epoch 72/100\n",
            "29/29 [==============================] - 0s 4ms/step - loss: 0.0040 - val_loss: 0.0039\n",
            "Epoch 73/100\n",
            "29/29 [==============================] - 0s 4ms/step - loss: 0.0041 - val_loss: 0.0041\n",
            "Epoch 74/100\n",
            "29/29 [==============================] - 0s 3ms/step - loss: 0.0040 - val_loss: 0.0040\n",
            "Epoch 75/100\n",
            "29/29 [==============================] - 0s 3ms/step - loss: 0.0039 - val_loss: 0.0040\n",
            "Epoch 76/100\n",
            "29/29 [==============================] - 0s 3ms/step - loss: 0.0040 - val_loss: 0.0041\n",
            "Epoch 77/100\n",
            "29/29 [==============================] - 0s 3ms/step - loss: 0.0040 - val_loss: 0.0040\n",
            "Epoch 78/100\n",
            "29/29 [==============================] - 0s 3ms/step - loss: 0.0040 - val_loss: 0.0040\n",
            "Epoch 79/100\n",
            "29/29 [==============================] - 0s 4ms/step - loss: 0.0040 - val_loss: 0.0039\n",
            "Epoch 80/100\n",
            "29/29 [==============================] - 0s 4ms/step - loss: 0.0039 - val_loss: 0.0042\n",
            "Epoch 81/100\n",
            "29/29 [==============================] - 0s 4ms/step - loss: 0.0039 - val_loss: 0.0039\n",
            "Epoch 82/100\n",
            "29/29 [==============================] - 0s 4ms/step - loss: 0.0039 - val_loss: 0.0039\n",
            "Epoch 83/100\n",
            "29/29 [==============================] - 0s 3ms/step - loss: 0.0039 - val_loss: 0.0043\n",
            "Epoch 84/100\n",
            "29/29 [==============================] - 0s 3ms/step - loss: 0.0040 - val_loss: 0.0040\n",
            "Epoch 85/100\n",
            "29/29 [==============================] - 0s 4ms/step - loss: 0.0039 - val_loss: 0.0041\n",
            "Epoch 86/100\n",
            "29/29 [==============================] - 0s 3ms/step - loss: 0.0039 - val_loss: 0.0039\n",
            "Epoch 87/100\n",
            "29/29 [==============================] - 0s 4ms/step - loss: 0.0039 - val_loss: 0.0040\n",
            "Epoch 88/100\n",
            "29/29 [==============================] - 0s 3ms/step - loss: 0.0039 - val_loss: 0.0043\n",
            "Epoch 89/100\n",
            "29/29 [==============================] - 0s 3ms/step - loss: 0.0039 - val_loss: 0.0040\n",
            "Epoch 90/100\n",
            "29/29 [==============================] - 0s 3ms/step - loss: 0.0039 - val_loss: 0.0041\n",
            "Epoch 91/100\n",
            "29/29 [==============================] - 0s 4ms/step - loss: 0.0039 - val_loss: 0.0039\n",
            "Epoch 92/100\n",
            "29/29 [==============================] - 0s 3ms/step - loss: 0.0039 - val_loss: 0.0039\n",
            "Epoch 93/100\n",
            "29/29 [==============================] - 0s 3ms/step - loss: 0.0039 - val_loss: 0.0040\n",
            "Epoch 94/100\n",
            "29/29 [==============================] - 0s 3ms/step - loss: 0.0039 - val_loss: 0.0041\n",
            "Epoch 95/100\n",
            "29/29 [==============================] - 0s 4ms/step - loss: 0.0039 - val_loss: 0.0040\n",
            "Epoch 96/100\n",
            "29/29 [==============================] - 0s 3ms/step - loss: 0.0039 - val_loss: 0.0040\n",
            "Epoch 97/100\n",
            "29/29 [==============================] - 0s 4ms/step - loss: 0.0039 - val_loss: 0.0039\n",
            "Epoch 98/100\n",
            "29/29 [==============================] - 0s 3ms/step - loss: 0.0039 - val_loss: 0.0043\n",
            "Epoch 99/100\n",
            "29/29 [==============================] - 0s 3ms/step - loss: 0.0040 - val_loss: 0.0042\n",
            "Epoch 100/100\n",
            "29/29 [==============================] - 0s 4ms/step - loss: 0.0040 - val_loss: 0.0043\n"
          ]
        }
      ]
    },
    {
      "cell_type": "code",
      "metadata": {
        "id": "k4WgoeqGkgCI"
      },
      "source": [
        "y_pred=model.predict(x_test)"
      ],
      "execution_count": 138,
      "outputs": []
    },
    {
      "cell_type": "code",
      "metadata": {
        "colab": {
          "base_uri": "https://localhost:8080/"
        },
        "id": "R-rS5GQkkovA",
        "outputId": "4663ff0b-988b-4808-c308-d386fd739e55"
      },
      "source": [
        "r2_score(y_test,y_pred)"
      ],
      "execution_count": 139,
      "outputs": [
        {
          "output_type": "execute_result",
          "data": {
            "text/plain": [
              "0.7212903804100822"
            ]
          },
          "metadata": {},
          "execution_count": 139
        }
      ]
    },
    {
      "cell_type": "code",
      "metadata": {
        "colab": {
          "base_uri": "https://localhost:8080/"
        },
        "id": "mpqeBjC1ktHF",
        "outputId": "be0237d2-9729-4efc-db53-2354d61b9fce"
      },
      "source": [
        "history.history"
      ],
      "execution_count": 140,
      "outputs": [
        {
          "output_type": "execute_result",
          "data": {
            "text/plain": [
              "{'loss': [0.004477759823203087,\n",
              "  0.0045675477012991905,\n",
              "  0.0044569894671440125,\n",
              "  0.004424211569130421,\n",
              "  0.004395225550979376,\n",
              "  0.004399880301207304,\n",
              "  0.004496186971664429,\n",
              "  0.004432806745171547,\n",
              "  0.004429655149579048,\n",
              "  0.0043178447522223,\n",
              "  0.004342511296272278,\n",
              "  0.004336358979344368,\n",
              "  0.0043524643406271935,\n",
              "  0.004317500162869692,\n",
              "  0.004321620799601078,\n",
              "  0.004334063734859228,\n",
              "  0.004327366128563881,\n",
              "  0.00433444045484066,\n",
              "  0.004286416806280613,\n",
              "  0.004353142809122801,\n",
              "  0.004338149446994066,\n",
              "  0.004173235967755318,\n",
              "  0.004217080306261778,\n",
              "  0.00437028706073761,\n",
              "  0.004270150326192379,\n",
              "  0.00430575804784894,\n",
              "  0.004183704033493996,\n",
              "  0.004226915072649717,\n",
              "  0.004174389876425266,\n",
              "  0.0042663561180233955,\n",
              "  0.004144796635955572,\n",
              "  0.004194767214357853,\n",
              "  0.004166311118751764,\n",
              "  0.004250221885740757,\n",
              "  0.004292298574000597,\n",
              "  0.0041997116059064865,\n",
              "  0.004540283232927322,\n",
              "  0.00420474074780941,\n",
              "  0.004145569168031216,\n",
              "  0.004097155295312405,\n",
              "  0.004146165680140257,\n",
              "  0.004111201968044043,\n",
              "  0.0040824152529239655,\n",
              "  0.004089938476681709,\n",
              "  0.004083145875483751,\n",
              "  0.004019292537122965,\n",
              "  0.004095115233212709,\n",
              "  0.0040272860787808895,\n",
              "  0.004121152684092522,\n",
              "  0.004134144634008408,\n",
              "  0.004123222082853317,\n",
              "  0.004105553962290287,\n",
              "  0.004063342232257128,\n",
              "  0.004008852411061525,\n",
              "  0.004226959776133299,\n",
              "  0.004104112274944782,\n",
              "  0.0040417383424937725,\n",
              "  0.003982851281762123,\n",
              "  0.004096911754459143,\n",
              "  0.004185661673545837,\n",
              "  0.004138825461268425,\n",
              "  0.004062129184603691,\n",
              "  0.003969681914895773,\n",
              "  0.004129389300942421,\n",
              "  0.004002343863248825,\n",
              "  0.004213578533381224,\n",
              "  0.004057923797518015,\n",
              "  0.003997115418314934,\n",
              "  0.004037819337099791,\n",
              "  0.00392749672755599,\n",
              "  0.00401225034147501,\n",
              "  0.003971751779317856,\n",
              "  0.004123519640415907,\n",
              "  0.00402847770601511,\n",
              "  0.003914086613804102,\n",
              "  0.0039747836999595165,\n",
              "  0.00396357849240303,\n",
              "  0.003976417239755392,\n",
              "  0.003967886324971914,\n",
              "  0.003937693778425455,\n",
              "  0.0039010117761790752,\n",
              "  0.0039002990815788507,\n",
              "  0.00390764931216836,\n",
              "  0.003956160973757505,\n",
              "  0.00389395235106349,\n",
              "  0.003895930480211973,\n",
              "  0.0039077941328287125,\n",
              "  0.003884867299348116,\n",
              "  0.0039438409730792046,\n",
              "  0.0038928452413529158,\n",
              "  0.003923257812857628,\n",
              "  0.003938259556889534,\n",
              "  0.0039021947886794806,\n",
              "  0.003938031382858753,\n",
              "  0.003906558733433485,\n",
              "  0.0038897788617759943,\n",
              "  0.003873351961374283,\n",
              "  0.0038939255755394697,\n",
              "  0.003976691514253616,\n",
              "  0.004043930675834417],\n",
              " 'val_loss': [0.0043056015856564045,\n",
              "  0.0043455553241074085,\n",
              "  0.004496045410633087,\n",
              "  0.004277834668755531,\n",
              "  0.004368944093585014,\n",
              "  0.004641752690076828,\n",
              "  0.004688357934355736,\n",
              "  0.004486365243792534,\n",
              "  0.0042008040472865105,\n",
              "  0.004658392630517483,\n",
              "  0.004280216991901398,\n",
              "  0.004414635244756937,\n",
              "  0.004156618379056454,\n",
              "  0.00440879724919796,\n",
              "  0.004216248635202646,\n",
              "  0.004474768415093422,\n",
              "  0.004396455362439156,\n",
              "  0.004153074696660042,\n",
              "  0.004096838179975748,\n",
              "  0.004213603679090738,\n",
              "  0.0044790091924369335,\n",
              "  0.004142952151596546,\n",
              "  0.004678718280047178,\n",
              "  0.004381924867630005,\n",
              "  0.004143476951867342,\n",
              "  0.004218612797558308,\n",
              "  0.004056470934301615,\n",
              "  0.004115485120564699,\n",
              "  0.00413684593513608,\n",
              "  0.004220236092805862,\n",
              "  0.004044597968459129,\n",
              "  0.004039968363940716,\n",
              "  0.0040190876461565495,\n",
              "  0.004055591765791178,\n",
              "  0.004137211013585329,\n",
              "  0.004447693005204201,\n",
              "  0.004219337832182646,\n",
              "  0.004176698159426451,\n",
              "  0.004083206411451101,\n",
              "  0.004126450512558222,\n",
              "  0.004131285473704338,\n",
              "  0.004016088787466288,\n",
              "  0.004118120763450861,\n",
              "  0.00420631468296051,\n",
              "  0.003996262792497873,\n",
              "  0.004369623959064484,\n",
              "  0.004046084824949503,\n",
              "  0.004458792973309755,\n",
              "  0.004252082668244839,\n",
              "  0.004286244511604309,\n",
              "  0.004016011022031307,\n",
              "  0.0040228539146482944,\n",
              "  0.004021424800157547,\n",
              "  0.004050024319440126,\n",
              "  0.003977550193667412,\n",
              "  0.004002513363957405,\n",
              "  0.004073119256645441,\n",
              "  0.003950112499296665,\n",
              "  0.0039720842614769936,\n",
              "  0.0039639244787395,\n",
              "  0.004015273414552212,\n",
              "  0.0040785823948681355,\n",
              "  0.004027125425636768,\n",
              "  0.004001931753009558,\n",
              "  0.004128664266318083,\n",
              "  0.00392687413841486,\n",
              "  0.003958044108003378,\n",
              "  0.00394695857539773,\n",
              "  0.003976901061832905,\n",
              "  0.004147535189986229,\n",
              "  0.0039924802258610725,\n",
              "  0.0039034101646393538,\n",
              "  0.004141741432249546,\n",
              "  0.003973308019340038,\n",
              "  0.004028769675642252,\n",
              "  0.004056455567479134,\n",
              "  0.004014023579657078,\n",
              "  0.004041077569127083,\n",
              "  0.003929839003831148,\n",
              "  0.004169723019003868,\n",
              "  0.003938567824661732,\n",
              "  0.0039045284502208233,\n",
              "  0.004288943018764257,\n",
              "  0.00400677090510726,\n",
              "  0.004069135989993811,\n",
              "  0.003933047875761986,\n",
              "  0.004040522966533899,\n",
              "  0.004301636014133692,\n",
              "  0.004000288434326649,\n",
              "  0.004095078445971012,\n",
              "  0.003934195265173912,\n",
              "  0.003901885123923421,\n",
              "  0.0040142722427845,\n",
              "  0.004072939977049828,\n",
              "  0.0040115369483828545,\n",
              "  0.0039763241074979305,\n",
              "  0.00393893476575613,\n",
              "  0.004279551096260548,\n",
              "  0.00416638795286417,\n",
              "  0.004335454665124416]}"
            ]
          },
          "metadata": {},
          "execution_count": 140
        }
      ]
    },
    {
      "cell_type": "code",
      "metadata": {
        "id": "MfwwY6XJk-4n"
      },
      "source": [
        "df=pd.DataFrame(history.history)"
      ],
      "execution_count": 141,
      "outputs": []
    },
    {
      "cell_type": "code",
      "metadata": {
        "colab": {
          "base_uri": "https://localhost:8080/",
          "height": 206
        },
        "id": "cB4Uu3rclLbF",
        "outputId": "fab05493-0c8e-4693-b967-bbce41786708"
      },
      "source": [
        "df.head()"
      ],
      "execution_count": 142,
      "outputs": [
        {
          "output_type": "execute_result",
          "data": {
            "text/html": [
              "<div>\n",
              "<style scoped>\n",
              "    .dataframe tbody tr th:only-of-type {\n",
              "        vertical-align: middle;\n",
              "    }\n",
              "\n",
              "    .dataframe tbody tr th {\n",
              "        vertical-align: top;\n",
              "    }\n",
              "\n",
              "    .dataframe thead th {\n",
              "        text-align: right;\n",
              "    }\n",
              "</style>\n",
              "<table border=\"1\" class=\"dataframe\">\n",
              "  <thead>\n",
              "    <tr style=\"text-align: right;\">\n",
              "      <th></th>\n",
              "      <th>loss</th>\n",
              "      <th>val_loss</th>\n",
              "    </tr>\n",
              "  </thead>\n",
              "  <tbody>\n",
              "    <tr>\n",
              "      <th>0</th>\n",
              "      <td>0.004478</td>\n",
              "      <td>0.004306</td>\n",
              "    </tr>\n",
              "    <tr>\n",
              "      <th>1</th>\n",
              "      <td>0.004568</td>\n",
              "      <td>0.004346</td>\n",
              "    </tr>\n",
              "    <tr>\n",
              "      <th>2</th>\n",
              "      <td>0.004457</td>\n",
              "      <td>0.004496</td>\n",
              "    </tr>\n",
              "    <tr>\n",
              "      <th>3</th>\n",
              "      <td>0.004424</td>\n",
              "      <td>0.004278</td>\n",
              "    </tr>\n",
              "    <tr>\n",
              "      <th>4</th>\n",
              "      <td>0.004395</td>\n",
              "      <td>0.004369</td>\n",
              "    </tr>\n",
              "  </tbody>\n",
              "</table>\n",
              "</div>"
            ],
            "text/plain": [
              "       loss  val_loss\n",
              "0  0.004478  0.004306\n",
              "1  0.004568  0.004346\n",
              "2  0.004457  0.004496\n",
              "3  0.004424  0.004278\n",
              "4  0.004395  0.004369"
            ]
          },
          "metadata": {},
          "execution_count": 142
        }
      ]
    },
    {
      "cell_type": "code",
      "metadata": {
        "id": "P-oYKlNzlbbn"
      },
      "source": [
        "import matplotlib.pyplot as plt"
      ],
      "execution_count": 144,
      "outputs": []
    },
    {
      "cell_type": "code",
      "metadata": {
        "colab": {
          "base_uri": "https://localhost:8080/",
          "height": 405
        },
        "id": "OkHF64-RnPsL",
        "outputId": "6a58cbc9-5a5e-4389-ef63-630ce5352fb5"
      },
      "source": [
        "plt.figure(figsize=(15,6))\n",
        "plt.plot(df.loss)\n",
        "plt.plot(df.val_loss)\n",
        "plt.ylabel(\"Loss & Validation Loss\")\n",
        "plt.xlabel(\"Number of epochs\")"
      ],
      "execution_count": 149,
      "outputs": [
        {
          "output_type": "execute_result",
          "data": {
            "text/plain": [
              "Text(0.5, 0, 'Number of epochs')"
            ]
          },
          "metadata": {},
          "execution_count": 149
        },
        {
          "output_type": "display_data",
          "data": {
            "image/png": "[encoded data removed]",
            "text/plain": [
              "<Figure size 1080x432 with 1 Axes>"
            ]
          },
          "metadata": {
            "needs_background": "light"
          }
        }
      ]
    },
    {
      "cell_type": "code",
      "metadata": {
        "id": "dNFlanbInWcb"
      },
      "source": [
        ""
      ],
      "execution_count": null,
      "outputs": []
    }
  ]
}